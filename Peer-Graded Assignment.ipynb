{
 "cells": [
  {
   "cell_type": "markdown",
   "id": "df68df8e-c49b-44ff-b99f-ddfa0337c33f",
   "metadata": {},
   "source": [
    "# Peer-Graded Assignments: Submit your work and rate your peers"
   ]
  },
  {
   "cell_type": "markdown",
   "id": "06382863-af97-4184-8f5c-35f2fa99f73a",
   "metadata": {},
   "source": [
    "## Author: [ Sr Representative Kevin Adrian Salcedo Rugeles]"
   ]
  },
  {
   "cell_type": "markdown",
   "id": "c47762b0-5370-4558-b473-aa64537e6c57",
   "metadata": {},
   "source": [
    "## Introduction:\r\n",
    "\r\n",
    "This course has introduced you to multiple data science tools, and in this final project you will use Jupyterlite Notebook, one of the easiest tools to share publicly.\r\n",
    "\r\n",
    "Leveraging Jupyterlite Notebook in Skills Network Labs, you'll create your Jupyterlite notebook (in English) and share it via a public GitHub link.Hub."
   ]
  },
  {
   "cell_type": "markdown",
   "id": "98e44df1-1429-4ab9-abb5-0c9ca61f85ef",
   "metadata": {},
   "source": [
    "###  Data science languages.\n",
    "\n",
    "+ Python.\n",
    "+ R.\n",
    "+ SQL.\n",
    "+ Scala.\n",
    "+ Julia.\n",
    "+ JavaScript.\n",
    "+ Java.\n",
    "+ C/C++ C/C+++ C/C++\n",
    "TLAB."
   ]
  },
  {
   "cell_type": "markdown",
   "id": "6de3524f-ced5-4089-84c9-15bd57a7e091",
   "metadata": {},
   "source": [
    "###  Data science libraries\n",
    "\n",
    "+ NumPy\n",
    "+ Pandas\n",
    "+ Matplotlib\n",
    "+ Seaborn\n",
    "+ SciPy\n",
    "+ Scikit Learn\n",
    "+ Statsmodels\n",
    "+ TensorFlow\n",
    "+ Keras ML-sdk\r\n",
    "\n"
   ]
  },
  {
   "cell_type": "markdown",
   "id": "866fd405-5953-4fd7-bea9-be8e093a2604",
   "metadata": {},
   "source": [
    "### Tool for data science\n",
    "\n",
    "+ Python\r\n",
    "+ R\r\n",
    "+ SQL\r\n",
    "+ Java\r\n",
    "+ Julia\r\n",
    "+ Scala\r\n",
    "+ JavaS+ ipt\r\n",
    "Swift\n",
    "\n",
    "Swift.\n"
   ]
  },
  {
   "cell_type": "markdown",
   "id": "5748917f-b1c2-4dae-b0f3-febe435dbeae",
   "metadata": {},
   "source": [
    " ### Examples of arithmetic expressions"
   ]
  },
  {
   "cell_type": "code",
   "execution_count": 1,
   "id": "c90fd711-d625-4318-9d4e-83082c65f46a",
   "metadata": {},
   "outputs": [
    {
     "data": {
      "text/plain": [
       "6"
      ]
     },
     "execution_count": 1,
     "metadata": {},
     "output_type": "execute_result"
    }
   ],
   "source": [
    "3*2"
   ]
  },
  {
   "cell_type": "code",
   "execution_count": 2,
   "id": "bccea784-2ee6-4475-9cc3-5799d512b54e",
   "metadata": {},
   "outputs": [
    {
     "data": {
      "text/plain": [
       "5083"
      ]
     },
     "execution_count": 2,
     "metadata": {},
     "output_type": "execute_result"
    }
   ],
   "source": [
    "(12+154)*34-(187*3)"
   ]
  },
  {
   "cell_type": "code",
   "execution_count": 3,
   "id": "57308801-1ddc-45ab-ba65-6000a55281af",
   "metadata": {},
   "outputs": [
    {
     "data": {
      "text/plain": [
       "22"
      ]
     },
     "execution_count": 3,
     "metadata": {},
     "output_type": "execute_result"
    }
   ],
   "source": [
    "45//2"
   ]
  },
  {
   "cell_type": "code",
   "execution_count": 4,
   "id": "afbad7a8-5a1f-4905-b4f5-b691136f75cb",
   "metadata": {},
   "outputs": [
    {
     "data": {
      "text/plain": [
       "12.0"
      ]
     },
     "execution_count": 4,
     "metadata": {},
     "output_type": "execute_result"
    }
   ],
   "source": [
    "24/2\n"
   ]
  },
  {
   "cell_type": "markdown",
   "id": "49072827-201b-4bc4-93e4-b341ccfb0371",
   "metadata": {},
   "source": [
    " ### Code cell to multiply and add numbers"
   ]
  },
  {
   "cell_type": "code",
   "execution_count": 5,
   "id": "01b77871-f8ca-4089-b4eb-81dfd856ef09",
   "metadata": {},
   "outputs": [
    {
     "name": "stdin",
     "output_type": "stream",
     "text": [
      "Enter the first number:  64\n",
      "Enter the second number:  32\n",
      "Enter the third number:  56\n"
     ]
    },
    {
     "name": "stdout",
     "output_type": "stream",
     "text": [
      "The result of the equation is: 2104.0\n"
     ]
    }
   ],
   "source": [
    "# Prompt user to enter numbers\n",
    "numero1 = float(input(\"Enter the first number: \"))\n",
    "numero2 = float(input(\"Enter the second number: \"))\n",
    "numero3 = float(input(\"Enter the third number: \"))\n",
    "\n",
    "# Calculate the result of the equation\n",
    "result = (numero1 * numero2) + numero3\n",
    "\n",
    "# Print the result\n",
    "print(\"The result of the equation is:\", result)"
   ]
  },
  {
   "cell_type": "markdown",
   "id": "7e44dfb8-7270-42d4-be0d-0920c2fcb467",
   "metadata": {},
   "source": [
    "### Code cell to convert minutes to hours"
   ]
  },
  {
   "cell_type": "code",
   "execution_count": 6,
   "id": "3059003b-7b0c-4ce3-ac5d-4cd4f0171265",
   "metadata": {},
   "outputs": [
    {
     "name": "stdin",
     "output_type": "stream",
     "text": [
      "Enter the value in minutes you want to convert:  60\n"
     ]
    },
    {
     "name": "stdout",
     "output_type": "stream",
     "text": [
      "60.0 minutes, equal to 1.0 hours\n"
     ]
    }
   ],
   "source": [
    "# Prompt the user to enter the value in minutes that they want to convert to hours\n",
    "minutos = float(input(\"Enter the value in minutes you want to convert: \"))\n",
    "\n",
    "# Calculate the result of the equation\n",
    "resultado = minutos / 60\n",
    "\n",
    "# Imprimir el resultado\n",
    "print( minutos, \"minutes, equal to\", resultado, \"hours\")"
   ]
  },
  {
   "cell_type": "markdown",
   "id": "969f06f1-7387-433c-81f4-c9b3eded85d0",
   "metadata": {},
   "source": [
    "### Insert a code cell to list Objectives"
   ]
  },
  {
   "cell_type": "code",
   "execution_count": 9,
   "id": "a7e237e3-1d1e-4b71-8f8d-f9ed9c4d3eb3",
   "metadata": {},
   "outputs": [
    {
     "name": "stdout",
     "output_type": "stream",
     "text": [
      "Goals:\n",
      "- Learn Python\n",
      "- Mastering Jupyter Notebook\n",
      "- Practice data analysis\n",
      "- Improve in machine learning\n"
     ]
    }
   ],
   "source": [
    "# Goal List\n",
    "objetivos = [\n",
    "    \"Learn Python\",\n",
    "     \"Mastering Jupyter Notebook\",\n",
    "     \"Practice data analysis\",\n",
    "     \"Improve in machine learning\"\n",
    "]\n",
    "\n",
    "# Print target list\n",
    "print(\"Goals:\")\n",
    "for objetivo in objetivos:\n",
    "    print(\"-\", objetivo)"
   ]
  },
  {
   "cell_type": "code",
   "execution_count": null,
   "id": "0b0e2b4c-5f5f-4cce-8d28-f8f9c62c79d7",
   "metadata": {},
   "outputs": [],
   "source": []
  }
 ],
 "metadata": {
  "kernelspec": {
   "display_name": "Python 3 (ipykernel)",
   "language": "python",
   "name": "python3"
  },
  "language_info": {
   "codemirror_mode": {
    "name": "ipython",
    "version": 3
   },
   "file_extension": ".py",
   "mimetype": "text/x-python",
   "name": "python",
   "nbconvert_exporter": "python",
   "pygments_lexer": "ipython3",
   "version": "3.11.9"
  }
 },
 "nbformat": 4,
 "nbformat_minor": 5
}
